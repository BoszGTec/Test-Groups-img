{
  "nbformat": 4,
  "nbformat_minor": 0,
  "metadata": {
    "colab": {
      "name": "Blank.ipynb",
      "provenance": [],
      "collapsed_sections": [],
      "authorship_tag": "ABX9TyNsw7XchwYX3Rt3+6+FZyU4",
      "include_colab_link": true
    },
    "kernelspec": {
      "name": "python3",
      "display_name": "Python 3"
    },
    "language_info": {
      "name": "python"
    }
  },
  "cells": [
    {
      "cell_type": "markdown",
      "metadata": {
        "id": "view-in-github",
        "colab_type": "text"
      },
      "source": [
        "<a href=\"https://colab.research.google.com/github/BoszGTec/Test-Groups-img/blob/main/Groups-img%20by%20AI(TeachableMachine).ipynb\" target=\"_parent\"><img src=\"https://colab.research.google.com/assets/colab-badge.svg\" alt=\"Open In Colab\"/></a>"
      ]
    },
    {
      "cell_type": "markdown",
      "source": [
        "# จัดหมวดหมู่รูปภาพโดยใช้AI\n",
        "\n",
        "---"
      ],
      "metadata": {
        "id": "zqt6IXPwBoRW"
      }
    },
    {
      "cell_type": "code",
      "source": [
        "#@title ##**<<ดาวน์โหลดไฟล์**\n",
        "%cd /content\n",
        "!git clone https://github.com/BoszGTec/Test-Groups-img.git\n",
        "!mkdir \"input\"\n",
        "!mkdir \"output\"\n",
        "!cd \"output\" && mkdir \"Anime\"\n",
        "!cd \"output\" && mkdir \"Other\""
      ],
      "metadata": {
        "cellView": "form",
        "id": "-GbiU4cdArOO"
      },
      "execution_count": null,
      "outputs": []
    },
    {
      "cell_type": "code",
      "source": [
        "#@title ##**<<อัปโหลดไฟล์ .zip เท่านั้น**\n",
        "#@markdown ใช้ไฟล์ตัวอย่าง(ไม่อัปโหลด)\n",
        "ใช้ไฟล์ตัวอย่าง = True #@param {type:\"boolean\"}\n",
        "\n",
        "%cd /content/input/\n",
        "if ใช้ไฟล์ตัวอย่าง :\n",
        "  !cp \"/content/Test-Groups-img/testfile/test.zip\"  \"/content/input/\"\n",
        "else :\n",
        "  from google.colab import files\n",
        "  uploaded = files.upload()\n"
      ],
      "metadata": {
        "cellView": "form",
        "id": "hZDndelrA91O"
      },
      "execution_count": null,
      "outputs": []
    },
    {
      "cell_type": "code",
      "source": [
        "#@title ##**<<แตกzip**\n",
        "%cd /content/input/\n",
        "import os\n",
        "print(os.listdir())\n",
        "for i in os.listdir() :\n",
        "  if '.zip' in i :\n",
        "    inp='/content/input/'+i\n",
        "!unzip $inp"
      ],
      "metadata": {
        "cellView": "form",
        "id": "brWTy4mzCSTm"
      },
      "execution_count": null,
      "outputs": []
    },
    {
      "cell_type": "code",
      "source": [
        "#@title ##**<<จัดกลุ่มไฟล์**\n",
        "%cd \"/content/input\"\n",
        "list_inp=[]\n",
        "\n",
        "for i in os.listdir() :\n",
        "  if '.jpg' in i or '.png' in i or '.jpeg' in i or '.bmp' in i:\n",
        "    list_inp.append(i)\n",
        "print(\"input : \",end=\"\")\n",
        "print(list_inp)\n",
        "\n",
        "from keras.models import load_model\n",
        "from PIL import Image, ImageOps\n",
        "import numpy as np\n",
        "\n",
        "# Load the model\n",
        "model = load_model('/content/Test-Groups-img/model/keras_model.h5')\n",
        "\n",
        "# Create the array of the right shape to feed into the keras model\n",
        "# The 'length' or number of images you can put into the array is\n",
        "# determined by the first position in the shape tuple, in this case 1.\n",
        "for i in list_inp :\n",
        "  data = np.ndarray(shape=(1, 224, 224, 3), dtype=np.float32)\n",
        "  # Replace this with the path to your image\n",
        "  image = Image.open(\"/content/input/\"+i)\n",
        "  #resize the image to a 224x224 with the same strategy as in TM2:\n",
        "  #resizing the image to be at least 224x224 and then cropping from the center\n",
        "  size = (224, 224)\n",
        "  image = ImageOps.fit(image, size, Image.ANTIALIAS)\n",
        "\n",
        "  #turn the image into a numpy array\n",
        "  image_array = np.asarray(image)\n",
        "  # Normalize the image\n",
        "  normalized_image_array = (image_array.astype(np.float32) / 127.0) - 1\n",
        "  # Load the image into the array\n",
        "  data[0] = normalized_image_array\n",
        "\n",
        "  # run the inference\n",
        "  prediction = model.predict(data)\n",
        "  print(i ,': ', prediction)\n",
        "  #0 most\n",
        "  p1= \"/content/input/\"+i\n",
        "  if prediction[0][0]>prediction[0][1] and prediction[0][0]>prediction[0][2] :\n",
        "    !cp $p1 \"/content/output/Anime\"\n",
        "\n",
        "  #1 most\n",
        "  elif prediction[0][1]>prediction[0][0] and prediction[0][1]>prediction[0][2]:\n",
        "    !cp $p1 \"/content/output/Other\"\n",
        "\n",
        "  #2 most\n",
        "  elif prediction[0][2]>prediction[0][0] and prediction[0][2]>prediction[0][1] :\n",
        "    !cp $p1 \"/content/output/Other\"\n",
        "\n",
        "\n"
      ],
      "metadata": {
        "cellView": "form",
        "id": "UBUy6E9aAoGW"
      },
      "execution_count": null,
      "outputs": []
    },
    {
      "cell_type": "code",
      "source": [
        "#@title ##**<<แสดงไฟล์ในโฟลเดอร์**\n",
        "!echo Anime\n",
        "!echo ---------\n",
        "!dir /content/output/Anime\n",
        "\n",
        "print(\"\\n\")\n",
        "\n",
        "!echo Other\n",
        "!echo ---------\n",
        "!dir /content/output/Other"
      ],
      "metadata": {
        "cellView": "form",
        "id": "7eZgIpKDRZw9"
      },
      "execution_count": null,
      "outputs": []
    }
  ]
}